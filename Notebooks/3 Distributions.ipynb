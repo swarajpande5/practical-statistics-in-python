{
 "cells": [
  {
   "cell_type": "markdown",
   "metadata": {},
   "source": [
    "## **Distributions**\n",
    "\n",
    "The distribution provides a parameterized mathematical function that can be used to calculate the probability for any individual observation from the sample space. This distribution describes the grouping or the density of the observations, called the _probability density function_. We can also calculate the likelihood of an observation having a value equal to or lesser than a given value. <br>\n",
    "A summary of these relationships between observations is called a _cumulative density function_."
   ]
  },
  {
   "cell_type": "markdown",
   "metadata": {},
   "source": [
    "### **Discrete Distribution**\n",
    "\n",
    "A discrete distribution is a distribution of data in statistics that has discrete values. Discrete values are countable, finite, non-negative integers, such as 1, 10, 15. <br>\n",
    "The most common discrete distributions used by statisticians or analysts include the binomial, Poisson, Bernoulli, and multinomial distributions. Others include the negative binomial, geometric, and hypergeometric distributions."
   ]
  },
  {
   "cell_type": "markdown",
   "metadata": {},
   "source": [
    "Suppose a fair coin is tossed twice. Say, the discrete probability distribution has to be determined for the number of heads that are observed. <br>\n",
    "The steps are as follows:\n",
    "\n",
    "- Step 1: Determine the sample space of the experiment. When a fair coin is tossed twice the sample space is {HH, HT, TH, TT}. Here, H denotes a head and T represents a tail. Thus, the total number of outcomes is 4.\n",
    "- Step 2: Define a discrete random variable, X. For the example let X be the number of heads observed.\n",
    "- Step 3: Identify the possible values that the variable can assume. There are 3 possible values of X. These are 0 (no head is observed), 1 (exactly one head is observed), and 2 (the coin lands on heads twice).\n",
    "- Step 4: Calculate the probability associated with each outcome. In the given example, the probability can be calculated by the formula, number of favorable outcomes / total number of possible outcomes.\n",
    "- Step 5: To get the discrete probability distribution represent the probabilities and the corresponding outcomes in tabular form or in graphical form.<br>\n",
    "\n",
    "This is expressed as follows:<br>\n",
    "\n",
    "| x | 0 {TT} | 1 {TH, HT} | 2 {HH} |\n",
    "| --- | --- | --- | --- |\n",
    "| P(x == x) | 1 / 4 = 0.25 | 2 / 4 = 0.5 | 1 / 4 = 0.25 |"
   ]
  },
  {
   "cell_type": "markdown",
   "metadata": {},
   "source": [
    "A histogram can be used to represent the discrete probability distribution for this example.\n",
    "\n",
    "<div align = \"center\">\n",
    "<img src = \"https://onlinestatbook.com/2/probability/graphics/binomial1.jpg\" width = 400/>\n",
    "</div>"
   ]
  },
  {
   "cell_type": "code",
   "execution_count": 1,
   "metadata": {},
   "outputs": [],
   "source": [
    "import numpy as np\n",
    "\n",
    "def discreteDistribution(arr, target = None, plot = False):\n",
    "    \"\"\"\n",
    "    arr: array-like object\n",
    "    target: the target case to calculate the probability around\n",
    "\n",
    "    Returns the probabilities of the target around random variable x.\n",
    "    \"\"\"\n",
    "    arr = [str(val) for val in arr]\n",
    "    prob = {}\n",
    "    cases = len(arr)\n",
    "\n",
    "    if target != None:\n",
    "        target = str(target)\n",
    "        for i in range(cases):\n",
    "            temp = str(arr[i].count(target))\n",
    "            if temp in prob.keys():\n",
    "                prob[temp] += 1\n",
    "            else:\n",
    "                prob[temp] = 1\n",
    "    else:\n",
    "        for i in range(cases):\n",
    "            if arr[i] in prob.keys():\n",
    "                prob[arr[i]] += 1\n",
    "            else:\n",
    "                prob[arr[i]] = 1\n",
    "    \n",
    "    for key in prob.keys():\n",
    "        prob[key] /= cases\n",
    "    \n",
    "    prob = sorted(prob.items())\n",
    "\n",
    "    if plot:\n",
    "        from matplotlib import pyplot as plt\n",
    "        plt.bar(np.arange(len(prob)), [val[1] for val in prob])\n",
    "        plt.xlabel(\"X\")\n",
    "        plt.ylabel(\"Probability\")\n",
    "        plt.show()\n",
    "    \n",
    "    return prob"
   ]
  },
  {
   "cell_type": "code",
   "execution_count": 2,
   "metadata": {},
   "outputs": [
    {
     "data": {
      "image/png": "[encoded data removed]",
      "text/plain": [
       "<Figure size 432x288 with 1 Axes>"
      ]
     },
     "metadata": {
      "needs_background": "light"
     },
     "output_type": "display_data"
    },
    {
     "name": "stdout",
     "output_type": "stream",
     "text": [
      "[('0', 0.25), ('1', 0.5), ('2', 0.25)]\n"
     ]
    }
   ],
   "source": [
    "print(discreteDistribution([\"hh\", \"tt\", \"ht\", \"th\"], \"t\", plot= True))"
   ]
  },
  {
   "cell_type": "code",
   "execution_count": 3,
   "metadata": {},
   "outputs": [
    {
     "data": {
      "image/png": "[encoded data removed]",
      "text/plain": [
       "<Figure size 432x288 with 1 Axes>"
      ]
     },
     "metadata": {
      "needs_background": "light"
     },
     "output_type": "display_data"
    },
    {
     "data": {
      "text/plain": [
       "[('1', 0.161),\n",
       " ('2', 0.168),\n",
       " ('3', 0.18),\n",
       " ('4', 0.166),\n",
       " ('5', 0.159),\n",
       " ('6', 0.166)]"
      ]
     },
     "execution_count": 3,
     "metadata": {},
     "output_type": "execute_result"
    }
   ],
   "source": [
    "# In this example there is an implied random variable (let’s call it X), \n",
    "# which can take the values 1, 2, 3, 4, 5 or 6. A sample of NUM_ROLL size is generated\n",
    "NUM_ROLLS = 1000\n",
    "\n",
    "values = [1, 2, 3, 4, 5, 6]\n",
    "sample = np.random.choice(values, NUM_ROLLS)\n",
    "\n",
    "discreteDistribution(sample, plot= True)"
   ]
  },
  {
   "cell_type": "markdown",
   "metadata": {},
   "source": [
    "### **Continuous Distribution**\n",
    "\n",
    "A continuous distribution describes the probabilities of the possible values of a continuous random variable. A continuous random variable is a random variable with a set of possible values (known as the range) that is infinite and uncountable. <br>\n",
    "Probabilities of continuous random variables (X) are defined as the area under the curve of its PDF. Thus, only ranges of values can have a nonzero probability. The probability that a continuous random variable equals some value is always zero."
   ]
  },
  {
   "cell_type": "markdown",
   "metadata": {},
   "source": [
    "This is a comparison between disrete distribution and continous normal distribution\n",
    "\n",
    "<div align = \"center\">\n",
    "<img src = \"https://images.ctfassets.net/vrrt8fsfwf0e/2uRmoVGdJnhi5giTkLkKTd/7ac48a258e46aa6207b2ccc9befcedad/Continuous_distribution_thumbnail.svg\" width = 400/>\n",
    "</div>\n",
    "\n",
    "In the case of a continuous distribution, the values are present in an infinite range. Thus, in a continuous distribution, the numbers are infinite."
   ]
  },
  {
   "cell_type": "markdown",
   "metadata": {},
   "source": [
    "### **Normal Distribution**\n",
    "\n",
    "Normal distribution, also known as the Gaussian distribution, is a probability distribution that is symmetric about the mean, showing that data near the mean are more frequent in occurrence than data far from the mean. In graph form, normal distribution will appear as a bell curve"
   ]
  },
  {
   "cell_type": "markdown",
   "metadata": {},
   "source": [
    "- A normal distribution is the proper term for a probability bell curve.\n",
    "- In a normal distribution the mean is zero and the standard deviation is 1. It has zero skew and a kurtosis of 3.\n",
    "- Normal distributions are symmetrical, but not all symmetrical distributions are normal."
   ]
  },
  {
   "cell_type": "code",
   "execution_count": 23,
   "metadata": {},
   "outputs": [],
   "source": [
    "from scipy.stats import norm\n",
    "import numpy as np\n",
    "import matplotlib.pyplot as plt\n",
    "import seaborn as sb\n",
    "\n",
    "class normalDistribution:\n",
    "    def __init__(self, distribution, mean, std):\n",
    "        self.data = distribution\n",
    "        self.mean = mean\n",
    "        self.std = std    \n",
    "        self.pdf = norm.pdf(distribution, loc = mean, scale = std)\n",
    "    \n",
    "    def probability(self, upper_limit, lower_limit = 0, decimals = 5):\n",
    "        return round(norm(loc = self.mean, scale = self.std).cdf(upper_limit) - norm(loc = self.mean, scale = self.std).cdf(lower_limit), decimals)\n",
    "    \n",
    "    def plot(self):\n",
    "        sb.set_style('whitegrid')\n",
    "        sb.lineplot(x= self.data, y = self.pdf , color = 'black')\n",
    "        plt.xlabel('Heights')\n",
    "        plt.ylabel('Probability Density')\n",
    "        plt.show()"
   ]
  },
  {
   "cell_type": "code",
   "execution_count": 24,
   "metadata": {},
   "outputs": [
    {
     "data": {
      "image/png": "[encoded data removed]",
      "text/plain": [
       "<Figure size 432x288 with 1 Axes>"
      ]
     },
     "metadata": {},
     "output_type": "display_data"
    },
    {
     "name": "stdout",
     "output_type": "stream",
     "text": [
      "0.21186\n"
     ]
    }
   ],
   "source": [
    "data = np.arange(1,10,0.01)\n",
    "\n",
    "normal = normalDistribution(distribution = data, mean = 5.3, std = 1)\n",
    "normal.plot()\n",
    "print(normal.probability(4.5))"
   ]
  }
 ],
 "metadata": {
  "interpreter": {
   "hash": "01239ebd6e545549225bea699cc26d48fab579bec37c93aa5ec0358f83c4d139"
  },
  "kernelspec": {
   "display_name": "Python 3.10.1 64-bit",
   "language": "python",
   "name": "python3"
  },
  "language_info": {
   "codemirror_mode": {
    "name": "ipython",
    "version": 3
   },
   "file_extension": ".py",
   "mimetype": "text/x-python",
   "name": "python",
   "nbconvert_exporter": "python",
   "pygments_lexer": "ipython3",
   "version": "3.10.7"
  },
  "orig_nbformat": 4
 },
 "nbformat": 4,
 "nbformat_minor": 2
}
