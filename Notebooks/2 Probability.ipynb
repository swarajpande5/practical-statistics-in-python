{
 "cells": [
  {
   "cell_type": "markdown",
   "id": "10c90a39-0283-48ec-bc41-d0d55beb874e",
   "metadata": {},
   "source": [
    "## **Probability**   \n",
    "\n",
    "#### **Introduction** \n",
    "- Statistics and probability theory constitute a branch of mathematics for dealing with _uncertainity_. The probability theory provides a basis for the science of _statistical inference_ form data.\n",
    "- Sample: (of size n) obtained from a bigger population data to be represented by a probability.\n",
    "- Descriptive Statistics: Description of the sample \n",
    "- Inferential Statistics: Making decisions / inferences from the sample for our problem\n",
    "\n",
    "<br>"
   ]
  },
  {
   "cell_type": "markdown",
   "id": "e8bd4c78-2fb6-4bc4-a0aa-cf6e0a4ca4b8",
   "metadata": {},
   "source": [
    "#### **Sample Spaces**\n",
    "- Experiment: Any procedure or process which can have multiple possible outcomes\n",
    "- Sample Space: The set of all possible outcomes for a given experiment\n",
    "\n",
    "<br>"
   ]
  },
  {
   "cell_type": "markdown",
   "id": "a5884640-df72-4557-9738-6f6146c2625b",
   "metadata": {},
   "source": [
    "#### **Probability Values**\n",
    "A set of probability values for an experiment with sample space $S = \\{ O_1, O_2, \\cdots, O_n \\}$  consists of some probabilities that satisfy:\n",
    "\\begin{equation}\n",
    "   0 \\leq p_i \\leq 1, \\hspace{0.5cm} i= 1,2, \\cdots, n\n",
    "\\end{equation}\n",
    "and\n",
    "\\begin{equation}\n",
    "   p_1 +p_2 + \\cdots +p_n = 1\n",
    "\\end{equation}\n",
    "The probability of outcome $O_i$ occurring is said to be $p_i$ and it is written:\n",
    "\\begin{equation}\n",
    "    P(O_i) = p_i\n",
    "\\end{equation}\n",
    "In cases in which the $n$ outcomes are equally likely, then each probability will have a value of $1/n$.\n",
    "\n",
    "<br>"
   ]
  },
  {
   "cell_type": "markdown",
   "id": "430ea8cd-ec23-4fe7-9c9e-b58dfc011df3",
   "metadata": {},
   "source": [
    "#### **Events and Complements**\n",
    "- Event: Subset of the sample space\n",
    "- The probability of an event $A$, $P(A)$, is obtained by the probabilities of the outcomes contained withing the event $A$\n",
    "- An event is said to occur if one of the outcomes contained within the event occurs\n",
    "- Complement of events: event $ A' $ is the event consisting of everything in the sample space $S$ that is not contained within $A$\n",
    "\\begin{equation}\n",
    "    P(A) + P(A ') = 1\n",
    "\\end{equation}\n",
    "- Elementary (or simple) event: Event consisting of an individual outcome\n",
    "\n",
    "<br>"
   ]
  },
  {
   "cell_type": "markdown",
   "id": "691f83ad-ab9c-4c2b-8612-6206b13e8f3d",
   "metadata": {},
   "source": [
    "#### **Combination of Events**\n",
    "- Intersections of Events: $A \\cap B$ consists of the outcomes contained within both events $A$ and $B$\n",
    "- Probability of the intersection, $P(A \\cap B) $, is the probability that both events occur simultaneously\n",
    "- Properties:\n",
    "    - $P(A \\cap B) +P(A \\cap B') = P(A)$\n",
    "    - Mutually exclusive events: if $A \\cap B = \\emptyset$\n",
    "    - $A \\cap (B \\cap C) = (A \\cap B) \\cap C $\n",
    "\n",
    "<br>\n",
    "\n",
    "- Union of Events: $ A \\cup B $ consists of the outcomes that are contained within at least one of the events $A$ and $B$\n",
    "- The probability of this event, $P (A \\cup B)$ is the probability that at least one of these events $A$ and $B$ occurs\n",
    "- Properties\n",
    "    - $P( A \\cup B) = P(A \\cap B') + P(A' \\cap B') + P(A \\cap B)$\n",
    "    - If the events are mutually exclusive, then $P(A \\cup B) = P(A) + P(B)$\n",
    "- Other simple results:\n",
    "    - $(A \\cup B)' = A' \\cap B' $\n",
    "    - $(A \\cap B)' = A' \\cup B' $\n",
    "    - $A \\cup A' = S $\n",
    "    - $A \\cup (B \\cup C) = (A \\cup B) \\cup C $\n",
    "    \n",
    "<br>\n",
    "\n",
    "- $ P(A \\cup B \\cup C) = P(A) + P(B) + P(C) - P(A \\cap B) - P( B \\cap C) - P( A \\cap C) + P(A \\cap B \\cap C)$\n",
    "- Union of Mutually Exclusive Events: given a sequence $A_1, A_2, \\cdots , A_n$ of mutually exclusive events:\n",
    "\\begin{equation}\n",
    "    P(A_1 \\cup A_2 \\cup \\cdots \\cup A_n) = P(A_1) + \\cdots + P(A_n)\n",
    "\\end{equation}\n",
    "- Partition of sample space S: given a sequence $A_1, A_2, \\cdots , A_n$ of mutually exclusive events such that $A_1 \\cup A_2 \\cup \\cdots \\cup A_n = S$ is called a partition of S\n",
    "\n",
    "<br>"
   ]
  },
  {
   "cell_type": "markdown",
   "id": "aa403eb5-8317-452d-9bb3-3ac0e7136cce",
   "metadata": {},
   "source": [
    "#### **Conditional Probability**\n",
    "**Definition:** <br>\n",
    "- Conditional Probability of an event $A$ conditional on an event B is:\n",
    "\\begin{equation}\n",
    "    P(A \\mid B) = \\frac{P(A \\cap B)}{P(B)} \\hspace{0.5cm}  \\text{for } P(B) >0\n",
    "\\end{equation}\n",
    "\n",
    "**General Multiplication Law:** <br>\n",
    "- $P (A \\mid B) = \\frac{P(A \\cap B)}{P(B)} \\\\\n",
    "\\Longrightarrow P(A \\cap B) = P(B)P (A \\mid B)$\n",
    "- $P (A \\mid B \\cap C) = \\frac{P(A \\cap B \\cap C)}{P(B \\cap C)} \\\\\n",
    "\\Longrightarrow P(A \\cap B \\cap C) = P(B \\cap C)P (A \\mid B \\cap C)$\n",
    "- In general, for a sequence of events $A_1, A_2, \\cdots, A_n$:\n",
    "\\begin{equation}\n",
    "    P(A_1, A_2, \\cdots, A_n) = P(A_1)P(A_2 \\mid A_1)P(A_3 \\mid A_1 \\cap A_2) \\cdots P(A_n \\mid A_1 \\cap \\cdots \\cap A_{n-1})\n",
    "\\end{equation}\n",
    "\n",
    "<br>"
   ]
  },
  {
   "cell_type": "markdown",
   "id": "aa9582e6-b84b-453e-8e92-fd21f3b89394",
   "metadata": {},
   "source": [
    "#### **Law of Total Probability**\n",
    "- Given $\\{ A_1, A_2, \\cdots, A_n \\}$ a partition of sample space $S$, the probability of an event $B$, $P(B)$ can be expressed as:\n",
    "\\begin{equation}\n",
    "    P(B) = \\sum_{i=1}^n P(A_i)P(B \\mid A_i)\n",
    "\\end{equation}"
   ]
  },
  {
   "cell_type": "markdown",
   "id": "e834efb5-940d-4f1f-8dba-dfcea7bf6377",
   "metadata": {},
   "source": [
    "#### **Bayes' Theorem**\n",
    "- Given $\\{ A_1, A_2, \\cdots, A_n \\}$ a partition of a sample space, then the posterior probabilities of the event $A_i$ conditional on an event $B$ can be obtained from the probabilities $P(A_i)$ and $P(A_i \\mid B)$ using the formula:\n",
    "\\begin{equation}\n",
    "    P(A_i \\mid B) = \\frac{P(A_i)P(B \\mid A_i)}{\\sum_{j=1}^n P(A_j)P(B \\mid A_j)}\n",
    "\\end{equation}"
   ]
  }
 ],
 "metadata": {
  "kernelspec": {
   "display_name": "Python 3 (ipykernel)",
   "language": "python",
   "name": "python3"
  },
  "language_info": {
   "codemirror_mode": {
    "name": "ipython",
    "version": 3
   },
   "file_extension": ".py",
   "mimetype": "text/x-python",
   "name": "python",
   "nbconvert_exporter": "python",
   "pygments_lexer": "ipython3",
   "version": "3.11.5"
  }
 },
 "nbformat": 4,
 "nbformat_minor": 5
}
