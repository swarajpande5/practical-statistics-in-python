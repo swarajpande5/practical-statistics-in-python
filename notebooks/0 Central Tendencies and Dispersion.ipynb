{
 "cells": [
  {
   "cell_type": "markdown",
   "id": "57ae68a9-04dd-4e06-8866-c6da204efa94",
   "metadata": {},
   "source": [
    "## **Central Tendencies** \n",
    "A measure of central tendency is a single value that attempts to describe a set of data by identifying the central position within that set of data. Measures of central tendencies are sometimes also called as measures of central locations or summary statistics. \n",
    "<br>\n",
    "Following are the types of measures of central tendencies,"
   ]
  },
  {
   "cell_type": "markdown",
   "id": "2d9b6c30-cf40-4d8f-b528-54fe7f8dcdcb",
   "metadata": {},
   "source": [
    "#### 1. Mean \n",
    "The mean (or average) is the most popular and well known measure of central tendency. The mean is equal to the sum of all the values in the data set divided by the number of values in the data set. The sample mean is usually denoted by $\\overline{x}$ (x bar) and the population mean is usually denoted by $\\mu$ (mu). <br>  \n",
    "The formula of calculating mean is as follows, \n",
    "$$\\overline{x} = {{x_1 + x_2 + \\dots + x_n}\\over{n}} = {{\\sum{x}}\\over{n}}$$"
   ]
  },
  {
   "cell_type": "code",
   "execution_count": 1,
   "id": "da128510-754a-47ed-916b-e99a497904ee",
   "metadata": {
    "tags": []
   },
   "outputs": [],
   "source": [
    "def mean(x):\n",
    "    '''\n",
    "    Returns arithmetic mean of array-like object.\n",
    "    \n",
    "    Parameters:\n",
    "    \n",
    "    x : array-like object\n",
    "    '''\n",
    "    return sum(x) / len(x)"
   ]
  },
  {
   "cell_type": "code",
   "execution_count": 2,
   "id": "557f1f78-0543-47aa-b0d0-de6533844aea",
   "metadata": {
    "tags": []
   },
   "outputs": [
    {
     "name": "stdout",
     "output_type": "stream",
     "text": [
      "[51 92 14 71 60 20 82 86 74 74 87 99 23  2 21 52  1 87 29 37  1 63 59 20\n",
      " 32 75 57 21 88 48 90 58 41 91 59 79 14 61 61 46 61 50 54 63  2 50  6 20\n",
      " 72 38 17]\n"
     ]
    }
   ],
   "source": [
    "# Generating 51 random numbers between 0 and 100\n",
    "from numpy.random import seed, randint \n",
    "seed(42)\n",
    "x = randint(0, 100, 51)\n",
    "print(x)"
   ]
  },
  {
   "cell_type": "code",
   "execution_count": 3,
   "id": "adbef756-690a-4496-9526-10118db21f78",
   "metadata": {
    "tags": []
   },
   "outputs": [
    {
     "name": "stdout",
     "output_type": "stream",
     "text": [
      "The mean is: 50.1764705882353\n"
     ]
    }
   ],
   "source": [
    "print(f\"The mean is: {mean(x)}\")"
   ]
  },
  {
   "cell_type": "code",
   "execution_count": 4,
   "id": "b5faaca5-9607-44d5-bf13-cf0b83df3824",
   "metadata": {
    "tags": []
   },
   "outputs": [
    {
     "name": "stdout",
     "output_type": "stream",
     "text": [
      "The mean is: 50.1764705882353\n"
     ]
    }
   ],
   "source": [
    "# Using the mean function in numpy \n",
    "import numpy as np \n",
    "print(f\"The mean is: {np.mean(x)}\")"
   ]
  },
  {
   "cell_type": "markdown",
   "id": "e60b624c-d5fe-4de5-bfa2-c2a13db884d3",
   "metadata": {},
   "source": [
    "The mean has one main disadvantage i.e. it is particularly susceptible to the influcence of outliers. These are values that are unusual compared to rest of the dataset. <br>\n",
    "In situations like these we use another measure of central tendency, particularly median."
   ]
  },
  {
   "cell_type": "markdown",
   "id": "73eca75e-8ccb-4765-ae2b-475003090360",
   "metadata": {},
   "source": [
    "<br>\n",
    "\n",
    "#### 2. Median\n",
    "The median is the middle score for a set a of data that has been arranged in order of magnitude. The median is less affected by outliers and skewed data. "
   ]
  },
  {
   "cell_type": "code",
   "execution_count": 5,
   "id": "b292d7f2-4337-4bd1-b68b-a5ce4115db6d",
   "metadata": {
    "tags": []
   },
   "outputs": [],
   "source": [
    "def median(v):\n",
    "    '''\n",
    "    Returns median of array-like object.\n",
    "    \n",
    "    Parameters:\n",
    "    \n",
    "    x : array-like object\n",
    "    '''\n",
    "    n = len(v)\n",
    "    sorted_v = sorted(v)\n",
    "    midpoint = n // 2\n",
    "    \n",
    "    if n % 2 == 1:\n",
    "        return sorted_v[midpoint]\n",
    "    else:\n",
    "        low = midpoint - 1\n",
    "        high = midpoint \n",
    "        return (sorted_v[low] + sorted_v[high]) / 2"
   ]
  },
  {
   "cell_type": "code",
   "execution_count": 6,
   "id": "871fc231-6aa5-4636-82c9-3a0a265cedb9",
   "metadata": {
    "tags": []
   },
   "outputs": [
    {
     "name": "stdout",
     "output_type": "stream",
     "text": [
      "The median is: 54\n"
     ]
    }
   ],
   "source": [
    "# Using the same dataset x \n",
    "print(f\"The median is: {median(x)}\")"
   ]
  },
  {
   "cell_type": "code",
   "execution_count": 7,
   "id": "1b0dc3e0-8a2f-41f5-a472-8b33ac573fb9",
   "metadata": {
    "tags": []
   },
   "outputs": [
    {
     "name": "stdout",
     "output_type": "stream",
     "text": [
      "The median is: 54.0\n"
     ]
    }
   ],
   "source": [
    "# Using the median function in numpy \n",
    "print(f\"The median is: {np.median(x)}\")"
   ]
  },
  {
   "cell_type": "markdown",
   "id": "0772cefd-1954-4813-907d-c3f48c0b1d53",
   "metadata": {},
   "source": [
    "<br>\n",
    "\n",
    "#### 3. Mode \n",
    "The mode is the value that appears most frequently in a data set. A set of data may have one mode, more than one mode, or no mode at all."
   ]
  },
  {
   "cell_type": "code",
   "execution_count": 8,
   "id": "82cdf4bf-4d9d-4956-8790-996a697af4ff",
   "metadata": {
    "tags": []
   },
   "outputs": [],
   "source": [
    "from collections import Counter\n",
    "\n",
    "def mode(x):\n",
    "    '''\n",
    "    Returns a list of modes for the given array-like object.\n",
    "    \n",
    "    Parameters:\n",
    "    \n",
    "    x : array-like object\n",
    "    '''\n",
    "    c = Counter(x)\n",
    "    return [k for k, v in c.items() if v == c.most_common(1)[0][1]]"
   ]
  },
  {
   "cell_type": "code",
   "execution_count": 9,
   "id": "bc92b91a-8f7e-4da4-9ce6-8fc4fd7e5b87",
   "metadata": {
    "tags": []
   },
   "outputs": [
    {
     "name": "stdout",
     "output_type": "stream",
     "text": [
      "The mode is: [20, 61]\n"
     ]
    }
   ],
   "source": [
    "# Using the same dataset x\n",
    "print(f\"The mode is: {mode(x)}\")"
   ]
  },
  {
   "cell_type": "code",
   "execution_count": 10,
   "id": "d2c00048-8b67-4173-92a5-a806e7a1eddb",
   "metadata": {
    "tags": []
   },
   "outputs": [
    {
     "name": "stdout",
     "output_type": "stream",
     "text": [
      "The mode is: [20, 61]\n"
     ]
    }
   ],
   "source": [
    "# As numpy does not have a mode function, let's use statistics module of python\n",
    "import statistics\n",
    "print(f\"The mode is: {statistics.multimode(x)}\")"
   ]
  },
  {
   "cell_type": "markdown",
   "id": "44d49ed1-a9cc-482d-a723-22cec0d6416a",
   "metadata": {},
   "source": [
    "<br>\n",
    "\n",
    "#### 4. Quantile\n",
    "Quantiles are cut points dividing the range of a probability distribution into continuous intervals with equal probabilities, or dividing the observations in a sample in the same way. The median is a quantile; the median is placed in a probability distribution so that exactly half of the data is lower than the median and half of the data is above the median. The median cuts a distribution into two equal areas and so it is sometimes called 2-quantile."
   ]
  },
  {
   "cell_type": "code",
   "execution_count": 11,
   "id": "901465f7-5813-4e76-8392-b85841bfdc21",
   "metadata": {
    "tags": []
   },
   "outputs": [],
   "source": [
    "def quantile(x, p):\n",
    "    '''\n",
    "    Returns the pth-quantile value in array-like object\n",
    "    \n",
    "    Parameters: \n",
    "    \n",
    "    x : array-like object\n",
    "    p : float value between 0 and 1\n",
    "    '''\n",
    "    \n",
    "    p_index = int(p * len(x))\n",
    "    return sorted(x)[p_index]"
   ]
  },
  {
   "cell_type": "code",
   "execution_count": 12,
   "id": "8f87db31-4db0-4426-abef-f6ff89945832",
   "metadata": {
    "tags": []
   },
   "outputs": [
    {
     "name": "stdout",
     "output_type": "stream",
     "text": [
      "The 0.3 quantile is: 32\n"
     ]
    }
   ],
   "source": [
    "# Using the same dataset x \n",
    "print(f\"The 0.3 quantile is: {quantile(x, 0.3)}\")"
   ]
  },
  {
   "cell_type": "code",
   "execution_count": 13,
   "id": "3f637f3d-ce14-409a-87e7-642fc0917bda",
   "metadata": {
    "tags": []
   },
   "outputs": [
    {
     "name": "stdout",
     "output_type": "stream",
     "text": [
      "The 0.3 quantile is: 32.0\n"
     ]
    }
   ],
   "source": [
    "# Using quantile function in numpy \n",
    "print(f\"The 0.3 quantile is: {np.quantile(x, 0.3, axis = 0)}\")"
   ]
  },
  {
   "cell_type": "markdown",
   "id": "13573ba3-8f08-4151-8f2c-2c4a6cdcba44",
   "metadata": {},
   "source": [
    "<br>\n",
    "\n",
    "## **Dispersion**\n",
    "Dispersion in statistics is a way of describing how spread out a set of data is. Dispersion is the state of data getting dispersed, stretched, or spread out in different categories. Dispersion is a set of measures that helps one to determine the quality of data in an objectively quantifiable manner. <br>\n",
    "If all the values are close together then the spread is low, on the other hand, if some or all of the values differ by a large amount from the mean (and each other), then there is large spread in data.\n",
    "Following are the types of measures of dispersion, "
   ]
  },
  {
   "cell_type": "markdown",
   "id": "e879c54d-afda-422d-b6e1-51657b8d9b8b",
   "metadata": {},
   "source": [
    "#### 1. Variance \n",
    "Variance is the arithmetic mean of the sqaures of the deviations of the given values from their arithmetic mean. In simpler language, it is calculated by taking the differences between each number in the data set and the mean, then squaring the differences to make them positive, and finally dividing the sum of the squares by the number of values in the data set.\n",
    "Variance is calculated by using the following formula, \n",
    "$$ V =  \\frac{ \\sum_{i=1}^n (x_{i} -  \\bar{x}) ^{2}}{N}  $$"
   ]
  },
  {
   "cell_type": "code",
   "execution_count": 14,
   "id": "3cb03731-35d6-4051-85c3-a0cdeb3703bb",
   "metadata": {
    "tags": []
   },
   "outputs": [],
   "source": [
    "def variance(x):\n",
    "    '''\n",
    "    Returns variance of an array-like object of numeric values\n",
    "    \n",
    "    Parameters:\n",
    "    \n",
    "    x : array-like object of numeric values\n",
    "    '''\n",
    "    length = len(x)\n",
    "    avg = mean(x)\n",
    "    sum_squares = 0\n",
    "    for i in range(length):\n",
    "        sum_squares += (x[i] - avg) ** 2\n",
    "    variance = sum_squares / length\n",
    "    return variance"
   ]
  },
  {
   "cell_type": "code",
   "execution_count": 15,
   "id": "0280c7b1-b6c2-44a2-84a2-726ba59b50e4",
   "metadata": {
    "tags": []
   },
   "outputs": [
    {
     "name": "stdout",
     "output_type": "stream",
     "text": [
      "The variance is: 782.4198385236446\n"
     ]
    }
   ],
   "source": [
    "# Using the same dataset x\n",
    "print(f\"The variance is: {variance(x)}\")"
   ]
  },
  {
   "cell_type": "code",
   "execution_count": 16,
   "id": "928db684-75c1-4877-99e1-e4a509ba27db",
   "metadata": {
    "tags": []
   },
   "outputs": [
    {
     "name": "stdout",
     "output_type": "stream",
     "text": [
      "The variance is: 782.4198385236447\n"
     ]
    }
   ],
   "source": [
    "# Using Variance function in numpy\n",
    "print(f\"The variance is: {np.var(x)}\")"
   ]
  },
  {
   "cell_type": "markdown",
   "id": "ac68afa9-bda4-4171-9366-6f16dcfb3e9c",
   "metadata": {},
   "source": [
    "<br>\n",
    "\n",
    "#### 2. Standard Deviation \n",
    "As variance is produced by squaring the distance from the mean, its unit does not match that of original data. Standard deviation is a mathematical trick to bring back the parity. It is the positive square root of the variance. Standard deviation is denoted using $\\sigma$ (sigma) and can be calculated using the following formula, \n",
    "$$ \\sigma = \\sqrt{V} = \\sqrt{\\frac{ \\sum_{i=1}^n (x_{i} -  \\bar{x}) ^{2}}{N}} $$ \n",
    "\n",
    "<br>\n",
    "\n",
    "**Note:** The denominator in the calculation might change according to the context of variance / standard deviation, i.e. of population or sample."
   ]
  },
  {
   "cell_type": "code",
   "execution_count": 17,
   "id": "aefcf73a-7495-4e25-9dde-87c3b410ba76",
   "metadata": {
    "tags": []
   },
   "outputs": [],
   "source": [
    "from math import sqrt\n",
    "\n",
    "def std(x):\n",
    "    '''\n",
    "    Returns standard deviaion of array-like object of numeric values \n",
    "    \n",
    "    Parameters: \n",
    "    \n",
    "    x: array-like object of numeric values \n",
    "    '''\n",
    "    return sqrt(variance(x))"
   ]
  },
  {
   "cell_type": "code",
   "execution_count": 18,
   "id": "87f31b6d-f535-452a-988d-3a9eccc9e10c",
   "metadata": {
    "tags": []
   },
   "outputs": [
    {
     "name": "stdout",
     "output_type": "stream",
     "text": [
      "The standard deviation is: 27.971768598421598\n"
     ]
    }
   ],
   "source": [
    "# Using the same dataset x\n",
    "print(f\"The standard deviation is: {std(x)}\")"
   ]
  },
  {
   "cell_type": "code",
   "execution_count": 19,
   "id": "9155c786-25dc-4bf1-80a2-f1dbc5d485e4",
   "metadata": {
    "tags": []
   },
   "outputs": [
    {
     "name": "stdout",
     "output_type": "stream",
     "text": [
      "The standard deviation is: 27.9717685984216\n"
     ]
    }
   ],
   "source": [
    "# Using Standard deviation function in numpy\n",
    "print(f\"The standard deviation is: {np.std(x)}\")"
   ]
  },
  {
   "cell_type": "markdown",
   "id": "bbf551bb-4581-41ff-b9e9-1c0f33dde525",
   "metadata": {},
   "source": [
    "<br> \n",
    "\n",
    "#### 3. Range\n",
    "The range is the simplest measure of dispersion. As a quantity, the range is the difference between the higest and lowest scores in a distribution."
   ]
  },
  {
   "cell_type": "code",
   "execution_count": 20,
   "id": "80441163-4143-4378-9402-3d928b137608",
   "metadata": {
    "tags": []
   },
   "outputs": [],
   "source": [
    "def srange(x):\n",
    "    '''\n",
    "    Returns range of an array like object of numeric values\n",
    "    \n",
    "    Parameters: \n",
    "    \n",
    "    x : array-like object of numeric values\n",
    "    '''\n",
    "    return max(x) - min(x)"
   ]
  },
  {
   "cell_type": "code",
   "execution_count": 21,
   "id": "5f51085f-f651-4700-bee9-8819bb0f7ef3",
   "metadata": {
    "tags": []
   },
   "outputs": [
    {
     "name": "stdout",
     "output_type": "stream",
     "text": [
      "The range is: 98\n"
     ]
    }
   ],
   "source": [
    "# Using the same dataset x \n",
    "print(f\"The range is: {srange(x)}\")"
   ]
  },
  {
   "cell_type": "code",
   "execution_count": 22,
   "id": "6b8d1f67-d20c-40e4-b33b-187b6e945ede",
   "metadata": {
    "tags": []
   },
   "outputs": [
    {
     "name": "stdout",
     "output_type": "stream",
     "text": [
      "The range is: 98\n"
     ]
    }
   ],
   "source": [
    "# Using the ptp (peak to peak) function of numpy \n",
    "print(f\"The range is: {np.ptp(x)}\")"
   ]
  },
  {
   "cell_type": "markdown",
   "id": "6a06af48-675e-4c7c-ac7d-0b3e152e269f",
   "metadata": {},
   "source": [
    "<br>\n",
    "\n",
    "#### 4. Inter-Quartile Range (IQR)\n",
    "In descriptive stats, the interquartile range (IQR), also called the midspread or H-spread, is a measure of dispersion being equal to difference between 75th and 25th percentiles (i.e. 0.75 and 0.25 percentile). <br>\n",
    "\n",
    "$$ IQR = Q3 - Q1 $$\n",
    "\n",
    "The interquartile range is often used to find outliers in data. Outliers here are defined as observations that fall below Q1 − 1.5 IQR or above Q3 + 1.5 IQR. In a boxplot, the highest and lowest occurring value within this limit are indicated by whiskers of the box (frequently with an additional bar at the end of the whisker) and any outliers as individual points.\n",
    "\n",
    "<div align = \"center\">\n",
    "    \n",
    "<img src = \"https://upload.wikimedia.org/wikipedia/commons/thumb/1/1a/Boxplot_vs_PDF.svg/800px-Boxplot_vs_PDF.svg.png\" width = \"400\" />\n",
    "\n",
    "<br>\n",
    "    \n",
    "Boxplot (with IQR) and a pdf (Probability density function) of a Normal N(0, $\\sigma^2$) population\n",
    "    \n",
    "</div>"
   ]
  },
  {
   "cell_type": "code",
   "execution_count": 23,
   "id": "cf8dadd8-50a3-4ac4-85d7-3f65978208f9",
   "metadata": {
    "tags": []
   },
   "outputs": [],
   "source": [
    "def iqr(x):\n",
    "    '''\n",
    "    Returns IQR of array-like object of numeric values\n",
    "    \n",
    "    Parameters: \n",
    "    \n",
    "    x : array-like object of numeric values\n",
    "    '''\n",
    "    return np.quantile(x, 0.75) - np.quantile(x, 0.25)"
   ]
  },
  {
   "cell_type": "code",
   "execution_count": 24,
   "id": "2dc45a79-cce3-4620-a9ee-c550034a2123",
   "metadata": {
    "tags": []
   },
   "outputs": [
    {
     "name": "stdout",
     "output_type": "stream",
     "text": [
      "The IQR is: 51.0\n"
     ]
    }
   ],
   "source": [
    "# Using the same dataset x \n",
    "print(f\"The IQR is: {iqr(x)}\")"
   ]
  }
 ],
 "metadata": {
  "kernelspec": {
   "display_name": "Python 3 (ipykernel)",
   "language": "python",
   "name": "python3"
  },
  "language_info": {
   "codemirror_mode": {
    "name": "ipython",
    "version": 3
   },
   "file_extension": ".py",
   "mimetype": "text/x-python",
   "name": "python",
   "nbconvert_exporter": "python",
   "pygments_lexer": "ipython3",
   "version": "3.11.5"
  }
 },
 "nbformat": 4,
 "nbformat_minor": 5
}
