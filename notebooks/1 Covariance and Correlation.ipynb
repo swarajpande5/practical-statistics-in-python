{
 "cells": [
  {
   "cell_type": "markdown",
   "id": "9ec36aa9-34c0-415c-bcc0-dc35f179357a",
   "metadata": {},
   "source": [
    "## **Covariance** \n",
    "Covariance is a measure of how much two random variables vary together. It's similar to variance, but where variance tells you how a _single_ variable varies, **co**variance tells you how two variables vary together. <br>\n",
    "A positive covariance means that the two variables at hand are postively related, and they move in the same direction. <br>\n",
    "A negative covariance means that the two variables are inversely related, or that they move in opposite directions. <br>\n",
    "\n",
    "<div align = \"center\">\n",
    "    \n",
    "<img src = \"https://cdn-images-1.medium.com/max/800/1*GH0ou22oJEwAw89GkrS8-w.png\" width = \"400\" />\n",
    "\n",
    "<br>\n",
    "   \n",
    "</div>\n",
    "\n",
    "The formula to calculate covariance is as follows, \n",
    "$$ cov_{x, y} = \\frac{ \\sum (x_i - \\bar{x})(y_i - \\bar{y})}{N - 1} $$"
   ]
  },
  {
   "cell_type": "code",
   "execution_count": 1,
   "id": "25c1d88f-f904-4db5-afe5-fee63c1947e2",
   "metadata": {
    "tags": []
   },
   "outputs": [],
   "source": [
    "import numpy as np\n",
    "\n",
    "def covariance(x, y):\n",
    "    '''\n",
    "    Returns covariance between two array-like objects of numeric values.\n",
    "    \n",
    "    Parameters: \n",
    "    \n",
    "    x: array-like object of numeric values\n",
    "    y: array-like object of numeric values\n",
    "    '''\n",
    "    if len(x) != len(y):\n",
    "        return \n",
    "    \n",
    "    x_mean = np.mean(x)\n",
    "    y_mean = np.mean(y)\n",
    "    sum = 0\n",
    "    \n",
    "    for i in range(len(x)):\n",
    "        sum += ((x[i] - x_mean) * (y[i] - y_mean))\n",
    "    \n",
    "    return sum / (len(x) - 1)"
   ]
  },
  {
   "cell_type": "code",
   "execution_count": 2,
   "id": "9a923f49-26b8-403f-8315-c2704a2bced5",
   "metadata": {
    "tags": []
   },
   "outputs": [
    {
     "name": "stdout",
     "output_type": "stream",
     "text": [
      "x: [0 1 2 3 4 5 6 7 8 9]\n",
      "y: [0.75748157 1.33266435 2.5820461  3.13766692 4.6475828  5.05373785\n",
      " 6.43012799 7.23605775 8.26982824 9.96623949]\n"
     ]
    }
   ],
   "source": [
    "# Generating x and y:\n",
    "x = np.arange(10)\n",
    "y = x + np.random.rand(10)    # Adding some noise using rand()\n",
    "print(f\"x: {x}\")\n",
    "print(f\"y: {y}\")"
   ]
  },
  {
   "cell_type": "code",
   "execution_count": 3,
   "id": "7ceada0c-9de6-4068-b461-07206019c8a4",
   "metadata": {
    "tags": []
   },
   "outputs": [
    {
     "name": "stderr",
     "output_type": "stream",
     "text": [
      "/tmp/ipykernel_4004/716813267.py:6: UserWarning: Ignoring `palette` because no `hue` variable has been assigned.\n",
      "  sns.scatterplot(x = x, y = y, palette = \"Pastel1\")\n"
     ]
    },
    {
     "data": {
      "image/png": "[encoded data removed]",
      "text/plain": [
       "<Figure size 640x480 with 1 Axes>"
      ]
     },
     "metadata": {},
     "output_type": "display_data"
    }
   ],
   "source": [
    "# Let's plot the data \n",
    "import matplotlib.pyplot as plt\n",
    "import seaborn as sns\n",
    "%matplotlib inline\n",
    "\n",
    "sns.scatterplot(x = x, y = y, palette = \"Pastel1\")\n",
    "plt.xlabel(\"x\")\n",
    "plt.ylabel(\"y\")\n",
    "\n",
    "plt.show()"
   ]
  },
  {
   "cell_type": "markdown",
   "id": "c9a503f5-1045-42b1-8117-e3d0a85cf179",
   "metadata": {},
   "source": [
    "It's obvious that covariance between x and y must be positive."
   ]
  },
  {
   "cell_type": "code",
   "execution_count": 4,
   "id": "082d1926-4fd0-4de6-91b2-7d129d88df6e",
   "metadata": {
    "tags": []
   },
   "outputs": [
    {
     "name": "stdout",
     "output_type": "stream",
     "text": [
      "Covariance: 9.166253608051877\n"
     ]
    }
   ],
   "source": [
    "print(f\"Covariance: {covariance(x, y)}\")"
   ]
  },
  {
   "cell_type": "code",
   "execution_count": 5,
   "id": "09449a04-7d31-4b9f-ab1f-a4ff62fa7b0c",
   "metadata": {
    "tags": []
   },
   "outputs": [
    {
     "name": "stdout",
     "output_type": "stream",
     "text": [
      "Covariance: 9.166253608051877\n"
     ]
    }
   ],
   "source": [
    "# Using cov function of numpy to calculate the covariance \n",
    "print(f\"Covariance: {np.cov(x, y)[0][1]}\")"
   ]
  },
  {
   "cell_type": "markdown",
   "id": "8684bc56-e431-4280-9d57-993155ef810a",
   "metadata": {},
   "source": [
    "np.cov() always returns the covariance matrix."
   ]
  },
  {
   "cell_type": "markdown",
   "id": "2ceede1a-b6f2-4e5d-93ba-f556584818ae",
   "metadata": {
    "execution": {
     "iopub.execute_input": "2021-09-01T09:58:23.658368Z",
     "iopub.status.busy": "2021-09-01T09:58:23.658162Z",
     "iopub.status.idle": "2021-09-01T09:58:23.663325Z",
     "shell.execute_reply": "2021-09-01T09:58:23.662020Z",
     "shell.execute_reply.started": "2021-09-01T09:58:23.658345Z"
    }
   },
   "source": [
    "<br>\n",
    "\n",
    "## **Correlation** \n",
    "Correlation is also a measure of how much two random variables change together. However, \n",
    "- Covariance only indicates the direction of the linear relationship between variables, whereas correlation measures both strength and direction of the linear relationship between two variables. \n",
    "- Covariance values are not standardized, whereas correlation values are standardized.\n",
    "\n",
    "The Pearson product-moment correlation coefficient, also known as $r, \\rho$, or Pearson's $r$, is a measure of the strength and direction of the linear relationship between two variables that is defined as the covariance of the variables divided by the product of their standard deviations. \n",
    "\n",
    "<div align = \"center\">\n",
    "    \n",
    "<img src = \"https://fundsnetservices.com/wp-content/uploads/negative-correlation.jpg\" width = \"1000\" />\n",
    "    \n",
    "<br>\n",
    "   \n",
    "</div>\n",
    "\n",
    "The correlation is unitless and always lies between -1 (perfect anti-correlation) and 1 (perfect correlation). <br>\n",
    "The formula of Pearson's r is as follows, \n",
    "$$ \\rho \\ (or \\ r) = \\frac{cov_{x, y}}{\\sigma_x \\sigma_y} = \\frac{ \\sum (x_i - \\bar{x})(y_i - \\bar{y})}{ \\sqrt{\\sum (x_i - \\bar{x})^2 \\sum(y_i - \\bar{y})^2}} $$"
   ]
  },
  {
   "cell_type": "code",
   "execution_count": 6,
   "id": "d71be068-eacd-4be1-9e58-c04a5e512acf",
   "metadata": {
    "tags": []
   },
   "outputs": [],
   "source": [
    "def correlation(x, y):\n",
    "    '''\n",
    "    Returns correlation between two array-like objects of numeric values.\n",
    "    \n",
    "    Parameters: \n",
    "    \n",
    "    x: array-like object of numeric values\n",
    "    y: array-like object of numeric values\n",
    "    '''\n",
    "    return np.corrcoef(x, y)[0][1]    # np.corrcoef() always returns the correlation matrix"
   ]
  },
  {
   "cell_type": "code",
   "execution_count": 7,
   "id": "d5ccb0c9-bc09-46bd-9251-e59373490399",
   "metadata": {
    "tags": []
   },
   "outputs": [
    {
     "name": "stdout",
     "output_type": "stream",
     "text": [
      "Correlation: 0.995402722824334\n"
     ]
    }
   ],
   "source": [
    "# Using the same data x and y as above\n",
    "print(f\"Correlation: {correlation(x, y)}\")"
   ]
  }
 ],
 "metadata": {
  "kernelspec": {
   "display_name": "Python 3 (ipykernel)",
   "language": "python",
   "name": "python3"
  },
  "language_info": {
   "codemirror_mode": {
    "name": "ipython",
    "version": 3
   },
   "file_extension": ".py",
   "mimetype": "text/x-python",
   "name": "python",
   "nbconvert_exporter": "python",
   "pygments_lexer": "ipython3",
   "version": "3.11.5"
  }
 },
 "nbformat": 4,
 "nbformat_minor": 5
}
