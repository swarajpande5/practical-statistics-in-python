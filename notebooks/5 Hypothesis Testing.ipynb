{
 "cells": [
  {
   "cell_type": "markdown",
   "id": "9891a071-4af0-4474-aba6-169a61f0e28d",
   "metadata": {},
   "source": [
    "## Hypothesis Testing\n",
    "\n",
    "Hypothesis testing is a statistical method that is used in making a statistical decision using experimental data. Hypothesis testing is basically an assumption that we make about a population parameter. It evaluates two mutually exclusive statements about a population to determine which statement is best supported by the sample data.\n",
    "\n",
    "The purpose of a hypothesis test is to determine whether the null hypothesis is likely to be true given sample data. If there is little evidence against the null hypothesis given the data, you accept the null hypothesis. If the null hypothesis is unlikely given the data, you might reject the null in favor of the alternative hypothesis\n",
    "\n",
    "Definitions:\n",
    "\n",
    "**Null Hypothesis**, $H_0$: The null hypothesis assumes that nothing interesting is going on between whatever variables you're testing. The exact form of the null hypothesis varies from test to test: if you're testing whether two groups are different, the null hypothesis states that the groups are same. For example, if you want to test whether the average age of voters in your home state differs from the national average, the null hypothesis would be that there is no difference between the average.\n",
    "\n",
    "**Alternative Hypothesis**, $H_1$: The alternative hypothesis assumes that something interesting is going on between the variables you're testing. The exact form of the alternative hypothesis will depend on the specific test you are carrying out. Continuing with the example above, the alternative hypothesis would be that the average age of voters in your state does in fact differ from the national average.\n",
    "\n",
    "**Significance Level**, $\\alpha$: It refers to teh degree of significance in which we accept or reject the null hypothesis. 100% accuracy is not possible for accepting a hypothesis, so we, therefore select a level of significance that is usually 5% (0.05).\n",
    "\n",
    "$$\\text{Significance level}, \\alpha = 1 - \\text{Confidence Level}$$\n",
    "\n",
    "or (in percentages)\n",
    "\n",
    "$$\\text{Significance level}, \\alpha = 100 - \\text{Confidence Level}$$\n",
    "\n",
    "For example, If the confidence level is 95% (0.95) then the significance level is 5% (0.05).\n",
    "\n",
    "**p-Value**: After carrying out a test, if the probability of getting a result as extreme as the one you observe due to chance is lower than the significance level, you reject the null hypothesis in favor of the alternative. This probability of seeing a result as extreme or more extreme than the one observed is known as the p-value.\n",
    "\n",
    "\n",
    "### Types of Tests\n",
    "\n",
    "There are different types of test, here are the ones which we will cover:\n",
    "- **t-Test**: Genrally used for small sample sizes $(n < 30)$, and when population's standard deviation (or variance) is unknown.\n",
    "- **z-Test**: Generally used for large sample sizes $(n \\ge 30)$, and when the population's standard deviation (or variance) is known.\n",
    "- **F-Test** (ANOVA): Used for comparing values of more than two variables.\n",
    "- **Chi-Square Test**: Used for comparing categorical data.\n",
    "\n",
    "**Note**: Most parametric tests, require a population which is somewhat normally distributed. If not, apply normalization to the dataset.\n",
    "\n",
    "### One-Tailed Test vs. Two-Tailed Test\n",
    "\n",
    "- One-Tailed Test:\n",
    "    - A one-tailed test may be either left-tailed or right-tailed.\n",
    "    - A left-tailed test is used when the alternative hypothesis states that the true value of the parameter specified in the null hypothesis is **less than** the null hypothesis claims.\n",
    "    - A right-tailed test is used when the alternative hypothesis states that the true value of the parameter specified in the null hypothesis is **greater than** the null hypothesis claims.\n",
    "\n",
    "- Two-Tailed Test:\n",
    "    - The main difference between one-tailed and two-tailed tests is that one-tailed tests will only have one critical region whereas two-tailed tests will have two critical regions. If we require a $100(1 - \\alpha)$ % confidence interval we have to make some adjustments when using a two-tailed test.\n",
    "    - The confidence interval must remain a constant size, so if we are performing a two-tailed test, as there are twice as many critical regions then these critical regions must be half the size. This means that when we read the tables, when performing a two-tailed test, we need to consider $\\alpha / 2$ rather than $\\alpha$.\n",
    "\n",
    "\n",
    "<img src=https://ars.els-cdn.com/content/image/3-s2.0-B9780128008522000092-f09-06-9780128008522.jpg />\n"
   ]
  },
  {
   "cell_type": "markdown",
   "id": "b6b8f1dc-ffcb-4c72-b52d-6f27385f3657",
   "metadata": {},
   "source": [
    "### One-Sample t-Test\n",
    "A one-sample t-test checks whether a sample mean differs from the population mean."
   ]
  },
  {
   "cell_type": "code",
   "execution_count": 1,
   "id": "14987d44-7514-451a-8dcb-910247f0fb5f",
   "metadata": {
    "tags": []
   },
   "outputs": [],
   "source": [
    "import numpy as np\n",
    "import pandas as pd\n",
    "import matplotlib.pyplot as plt\n",
    "import math\n",
    "\n",
    "from scipy.stats import poisson"
   ]
  },
  {
   "cell_type": "code",
   "execution_count": 2,
   "id": "ad3054a5-e57a-42f4-9165-619310a26d38",
   "metadata": {
    "tags": []
   },
   "outputs": [
    {
     "name": "stdout",
     "output_type": "stream",
     "text": [
      "43.000112\n",
      "39.26\n"
     ]
    }
   ],
   "source": [
    "np.random.seed(6)\n",
    "\n",
    "population = np.concatenate ((\n",
    "    poisson.rvs(loc=18, mu=35, size=150000),\n",
    "    poisson.rvs(loc=18, mu=10, size=100000)\n",
    "))\n",
    "\n",
    "sample_1 = np.concatenate ((\n",
    "    poisson.rvs(loc=18, mu=30, size=30),\n",
    "    poisson.rvs(loc=18, mu=10, size=20)\n",
    "))\n",
    "\n",
    "print(population.mean())\n",
    "print(sample_1.mean())"
   ]
  },
  {
   "cell_type": "markdown",
   "id": "5b99eeec-b0dd-49c5-9e40-8224623eba16",
   "metadata": {},
   "source": [
    "Notice that we used a slightly different combination of distributions to generate the sample data, so we know that the two means are different. Let's conduct a t-test at 95% confidence level (5% significance level).\n",
    "To conduct a one-sample t-test we can use the scipy.stats.ttest_1samp() function."
   ]
  },
  {
   "cell_type": "code",
   "execution_count": 3,
   "id": "6b52b4d9-a189-4580-9347-941786640a42",
   "metadata": {
    "tags": []
   },
   "outputs": [
    {
     "data": {
      "text/plain": [
       "TtestResult(statistic=-2.5742714883655027, pvalue=0.013118685425061678, df=49)"
      ]
     },
     "execution_count": 3,
     "metadata": {},
     "output_type": "execute_result"
    }
   ],
   "source": [
    "from scipy.stats import ttest_1samp\n",
    "ttest_1samp(\n",
    "    a=sample_1,                 # Sample data\n",
    "    popmean=population.mean()   # Population mean\n",
    ")"
   ]
  },
  {
   "cell_type": "markdown",
   "id": "ff69db01-b287-4c4e-97c7-18a8768945ac",
   "metadata": {},
   "source": [
    "The test result shows the test statistic \"t\" is equal to -2.57. This tells us how much the sample mean deviates from the null hypothesis. If the t-statistic lies outside the confidence interval, we reject the null hypothesis."
   ]
  },
  {
   "cell_type": "code",
   "execution_count": 4,
   "id": "82f2d795-e914-4c92-b6d6-9ad2c2c97cac",
   "metadata": {
    "tags": []
   },
   "outputs": [
    {
     "name": "stdout",
     "output_type": "stream",
     "text": [
      "95% Confidence Intervals: (-2.0095752344892093, 2.009575234489209)\n"
     ]
    }
   ],
   "source": [
    "from scipy.stats import t\n",
    "c1 = t.ppf(q=0.025, df=49)\n",
    "c2 = t.ppf(q=0.975, df=49)\n",
    "\n",
    "print(f\"95% Confidence Intervals: {(c1, c2)}\")"
   ]
  },
  {
   "cell_type": "markdown",
   "id": "94da57a1-77ca-4bf1-acac-46eaf0e7e381",
   "metadata": {},
   "source": [
    "We can calculate the chances of getting a result as extreme as the one we observed (known as the p-value) by passing the test-statistic in the scipy.stats.t.cdf() function."
   ]
  },
  {
   "cell_type": "code",
   "execution_count": 5,
   "id": "8aa8a09a-4f90-45a8-a134-272c98dc8378",
   "metadata": {
    "tags": []
   },
   "outputs": [
    {
     "data": {
      "text/plain": [
       "0.013261652625859802"
      ]
     },
     "execution_count": 5,
     "metadata": {},
     "output_type": "execute_result"
    }
   ],
   "source": [
    "t.cdf(x=-2.57, df=49) * 2       # Multiplying by two for two tailed-test"
   ]
  },
  {
   "cell_type": "markdown",
   "id": "58bbfa5d-a49e-4a09-8cfc-eea3ead90672",
   "metadata": {},
   "source": [
    "**Note**: The alternative hypothesis we are checking is whether the sample mean differs (is not equal to) the population mean. Since the sample could differ in either the positive or negative direction we multiply the by two.\n",
    "\n",
    "Notice this value is the same as the p-value listed in the original t-test output. A p-value of 0.0132 means we'd expect to see data as extreme as our sample due to chance about 1.32% of the time if the null hypothesis was true. In this case, the p-value is lower than our significance level $\\alpha$ (equal to 1-conf.level or 0.05) so we should reject the null hypothesis. If we were to construct a 95% confidence interval for the sample it would not capture the population mean of 43:"
   ]
  },
  {
   "cell_type": "code",
   "execution_count": 6,
   "id": "bf2f4a40-6414-4e25-801d-ddb24b787636",
   "metadata": {
    "tags": []
   },
   "outputs": [
    {
     "data": {
      "text/plain": [
       "(36.369669080722176, 42.15033091927782)"
      ]
     },
     "execution_count": 6,
     "metadata": {},
     "output_type": "execute_result"
    }
   ],
   "source": [
    "sigma = sample_1.std() / math.sqrt(50)      # Sample stdev / sample size\n",
    "\n",
    "t.interval(\n",
    "    0.95,                   # Confidence level\n",
    "    df=49,                  # Degrees of freedom\n",
    "    loc=sample_1.mean(),    # Sample mean\n",
    "    scale=sigma\n",
    ")"
   ]
  },
  {
   "cell_type": "markdown",
   "id": "42bf1134-3d38-43fa-a3aa-2a904e7eff4a",
   "metadata": {
    "tags": []
   },
   "source": [
    "On the other hand, since there is a 1.3% chance of seeing a result this extreme due to change, it is not significant at the 99% confidence level. This means if we were to construct a 99% confidence interval, it would capture the population mean:"
   ]
  },
  {
   "cell_type": "code",
   "execution_count": 7,
   "id": "2ed93516-5a6c-43f0-b774-3d1f3526dbbe",
   "metadata": {
    "tags": []
   },
   "outputs": [
    {
     "data": {
      "text/plain": [
       "(35.40547994092107, 43.11452005907893)"
      ]
     },
     "execution_count": 7,
     "metadata": {},
     "output_type": "execute_result"
    }
   ],
   "source": [
    "t.interval(\n",
    "    0.99,                   # Confidence level\n",
    "    df=49,                  # Degrees of freedom\n",
    "    loc=sample_1.mean(),    # Sample mean\n",
    "    scale=sigma             # Standard dev estimate\n",
    ")"
   ]
  },
  {
   "cell_type": "markdown",
   "id": "a8f135ef-2c08-466e-862a-6019bd52f395",
   "metadata": {},
   "source": [
    "With a higher confidence level, we construct a wider confidence interval and increase the chances that it captures to true mean, thus making it less likely that we'll reject the null hypothesis. In this case, the p-value of 0.013 is greater than our significance level of 0.01, and we fail to reject the null hypothesis (other way of saying null hypothesis is accepted)."
   ]
  },
  {
   "cell_type": "markdown",
   "id": "b562e407-1e2c-4846-be3d-3ca44042d022",
   "metadata": {},
   "source": [
    "### Two-Sample T-Test\n",
    "\n",
    "A two-sample t-test investigate whether the means of two independent data samples differ from one another. In a two-sample test, the null hypothesis is that the means of both groups are the same. Unlike the one sample-test where we test against a known population parameter, the two sample test only involves sample means. You can conduct a two-sample t-test by passing with the scipy.stats.ttest_ind() function."
   ]
  },
  {
   "cell_type": "code",
   "execution_count": 8,
   "id": "a4b5fff2-f980-48be-9b28-3f2beb451363",
   "metadata": {
    "tags": []
   },
   "outputs": [
    {
     "name": "stdout",
     "output_type": "stream",
     "text": [
      "42.8\n"
     ]
    }
   ],
   "source": [
    "np.random.seed(12)\n",
    "\n",
    "sample_2 = np.concatenate((\n",
    "    poisson.rvs(loc=18, mu=33, size=30),\n",
    "    poisson.rvs(loc=18, mu=13, size=20)\n",
    "))\n",
    "\n",
    "print(sample_2.mean())"
   ]
  },
  {
   "cell_type": "code",
   "execution_count": 9,
   "id": "e3443674-30f2-4be7-828f-fff704a77fd3",
   "metadata": {
    "tags": []
   },
   "outputs": [
    {
     "data": {
      "text/plain": [
       "TtestResult(statistic=-1.7083870793286842, pvalue=0.09073104343957748, df=97.9724575497005)"
      ]
     },
     "execution_count": 9,
     "metadata": {},
     "output_type": "execute_result"
    }
   ],
   "source": [
    "from scipy.stats import ttest_ind\n",
    "\n",
    "ttest_ind(\n",
    "    a=sample_1,\n",
    "    b=sample_2,\n",
    "    equal_var=False     # Assume samples have equal variance ?\n",
    ")"
   ]
  },
  {
   "cell_type": "markdown",
   "id": "358f2c1e-31a4-4b94-a47e-9e13416d0343",
   "metadata": {},
   "source": [
    "The test yields a p-value of 0.0907, which means there is a 9% chance we'd see sample data this far apart if the two groups tested are actually identical. If we were using a 95% confidence level we would fail to reject the null hypothesis, since the p-value is greater than the corresponding significance level of 5%."
   ]
  },
  {
   "cell_type": "markdown",
   "id": "303d1f64-eb72-436a-a17d-d0164a10c0af",
   "metadata": {},
   "source": [
    "### Paired T-Test\n",
    "\n",
    "The basic two sample t-test is designed for testing differences between independent groups. In some cases, you might be interested in testing differences between samples of the same group at different points in time. For instance, a hospital might want to test whether a weight-loss drug works by checking the weights of the same group patients before and after treatment. A paired t-test lets you check whether the means of samples from the same group differ.\n",
    "\n",
    "We can conduct a paired t-test using the scipy.stats.ttest_rel()."
   ]
  },
  {
   "cell_type": "code",
   "execution_count": 10,
   "id": "863c9418-e820-43a5-a6ab-86af8b2ccf17",
   "metadata": {
    "tags": []
   },
   "outputs": [
    {
     "data": {
      "text/plain": [
       "-1.2303750057960445"
      ]
     },
     "execution_count": 10,
     "metadata": {},
     "output_type": "execute_result"
    }
   ],
   "source": [
    "from scipy.stats import norm\n",
    "\n",
    "np.random.seed(11)\n",
    "\n",
    "before = norm.rvs(scale=30, loc=250, size=100)\n",
    "after = before + norm.rvs(scale=5, loc=-1.25, size=100)\n",
    "\n",
    "weight = {\n",
    "    \"weight_before\": before,\n",
    "    \"weight_after\": after,\n",
    "    \"weight_change\": after - before\n",
    "}\n",
    "\n",
    "weight['weight_change'].mean()"
   ]
  },
  {
   "cell_type": "markdown",
   "id": "45a26998-7da2-447f-8728-551a56298c2e",
   "metadata": {},
   "source": [
    "The summary shows that patients lost about 1.23 pounds on average after treatment. Let's conduct a paired t-test to see whether this difference is significant at a 95% confidence level:"
   ]
  },
  {
   "cell_type": "code",
   "execution_count": 11,
   "id": "5df290ed-5594-4c4d-aaef-1b489a40061f",
   "metadata": {
    "tags": []
   },
   "outputs": [
    {
     "data": {
      "text/plain": [
       "TtestResult(statistic=2.5720175998568284, pvalue=0.011596444318439857, df=99)"
      ]
     },
     "execution_count": 11,
     "metadata": {},
     "output_type": "execute_result"
    }
   ],
   "source": [
    "from scipy.stats import ttest_rel\n",
    "\n",
    "ttest_rel(\n",
    "    a=before,\n",
    "    b=after\n",
    ")"
   ]
  },
  {
   "cell_type": "markdown",
   "id": "8dedd0f4-ca0a-44ad-a515-16bac00c2c16",
   "metadata": {},
   "source": [
    "The p-value in the test output shows that the chances of seeing this large of a difference between samples due to chance is just over 1%."
   ]
  },
  {
   "cell_type": "markdown",
   "id": "7f3c4d83-6afc-4cf0-80ca-0da5d1d5695a",
   "metadata": {},
   "source": [
    "### Type I and Type II Error\n",
    "\n",
    "The result of a statistical hypothesis test and the corresponding decision of whether to reject or accept the null hypothesis is not infallible. A test provides evidence for or against the null hypothesis and then you decide whether to accept or reject it based on that evidence, but the evidence may lack the strength to arrive at the correct conclusion. Incorrect conclusions made from hypothesis tests fall in one of two categories.\n",
    "\n",
    "Type I error describes a situation where you reject the null hypothesis when it is actually true. This type of error is also known as a \"false positive\" or \"false hit\". The type 1 error rate is equal to the significance level $\\alpha$, so setting a higher confidence level (and therefore lower alpha) reduces the chances of getting a false positive.\n",
    "\n",
    "Type II error describes a situation where you fail to reject the null hypothesis when it is actually false. Type II error is also known as \"false negative\" or \"miss\". The higher your confidence level, the more likely you are to make a type II error.\n",
    "\n",
    "<img src=\"https://www.simplypsychology.org/wp-content/uploads/type-1-and-2-errors.jpg\" width=500 />"
   ]
  },
  {
   "cell_type": "code",
   "execution_count": 12,
   "id": "a4f8b354-67bc-41c4-b1f0-8ce942cb049b",
   "metadata": {
    "tags": []
   },
   "outputs": [
    {
     "data": {
      "image/png": "[encoded data removed]",
      "text/plain": [
       "<Figure size 800x600 with 1 Axes>"
      ]
     },
     "metadata": {},
     "output_type": "display_data"
    }
   ],
   "source": [
    "from scipy.stats import norm\n",
    "\n",
    "plt.figure(figsize=(8,6))\n",
    "\n",
    "plt.plot(np.arange(-4,10,0.01), norm.pdf(np.arange(-4,10,0.01),loc=3,scale=2))\n",
    "plt.plot(np.arange(-4,4,0.01), norm.pdf(np.arange(-4,4,0.01)))\n",
    "\n",
    "plt.fill_between(\n",
    "    x=np.arange(-4,-2,0.01),\n",
    "    y1=norm.pdf(np.arange(-4,-2,0.01)),\n",
    "    facecolor='red',\n",
    "    alpha=0.35\n",
    ")\n",
    "\n",
    "plt.fill_between(\n",
    "    x=np.arange(-2,2,0.01),\n",
    "    y1=norm.pdf(np.arange(-2,2,0.01)),\n",
    "    facecolor='white',\n",
    "    alpha=0.35\n",
    ")\n",
    "\n",
    "plt.fill_between(\n",
    "    x=np.arange(2,4,0.01),\n",
    "    y1=norm.pdf(np.arange(2,4,0.01)),\n",
    "    facecolor='red',\n",
    "    alpha=0.5\n",
    ")\n",
    "\n",
    "plt.fill_between(\n",
    "    x=np.arange(-4,-2,0.01),\n",
    "    y1=norm.pdf(np.arange(-4,-2,0.01),loc=3, scale=2),\n",
    "    facecolor='white',\n",
    "    alpha=0.35\n",
    ")\n",
    "\n",
    "plt.fill_between(\n",
    "    x=np.arange(-2,2,0.01),\n",
    "    y1=norm.pdf(np.arange(-2,2,0.01),loc=3, scale=2),\n",
    "    facecolor='blue',\n",
    "    alpha=0.35\n",
    ")\n",
    "\n",
    "plt.fill_between(\n",
    "    x=np.arange(2,10,0.01),\n",
    "    y1=norm.pdf(np.arange(2,10,0.01),loc=3, scale=2),\n",
    "    facecolor='white',\n",
    "    alpha=0.35\n",
    ")\n",
    "\n",
    "\n",
    "plt.show()"
   ]
  },
  {
   "cell_type": "markdown",
   "id": "dcd42349-3df9-45be-98c6-e42fee451f55",
   "metadata": {},
   "source": [
    "In the plot above, the red areas indicate type I errors assuming the alternative hypothesis is not different from the null for a two-sided test with a 95% confidence level.\n",
    "\n",
    "The blue area represents type II errors that occur when the alternative hypothesis is different from the null, as shown by the distribution on thr gith. Note that the Type II error rate is the area under the alternative distribution within the quantiles determines by the null distribution and the confidence level. We can calculate the type II error rate for the distributions as follows,"
   ]
  },
  {
   "cell_type": "code",
   "execution_count": 13,
   "id": "0404d4e9-d5ae-439f-8029-939052ac8f37",
   "metadata": {
    "tags": []
   },
   "outputs": [
    {
     "data": {
      "text/plain": [
       "0.294956061112323"
      ]
     },
     "execution_count": 13,
     "metadata": {},
     "output_type": "execute_result"
    }
   ],
   "source": [
    "lower_quantile = norm.ppf(0.025)\n",
    "upper_quantile = norm.ppf(0.975)\n",
    "\n",
    "# Area under alternative, to the left the lower cutoff value\n",
    "low = norm.cdf(lower_quantile, loc=3, scale=2)\n",
    "\n",
    "# Area under alternative, to the left of the upper cutoff value\n",
    "high = norm.cdf(upper_quantile, loc=3, scale=2)\n",
    "\n",
    "# Area under the alternative, between the cutoffs (Type II error)\n",
    "\n",
    "high - low"
   ]
  },
  {
   "cell_type": "markdown",
   "id": "440e6e0f-e234-4799-b490-42e11c3e90a2",
   "metadata": {},
   "source": [
    "With the normal distribution above, we'd fail to reject the null hypothesis about 30% of the time, because the distributions are close enough together that they have significant overlap."
   ]
  },
  {
   "cell_type": "code",
   "execution_count": null,
   "id": "5276990b-5235-42c3-94ac-39e91d04b649",
   "metadata": {},
   "outputs": [],
   "source": []
  }
 ],
 "metadata": {
  "kernelspec": {
   "display_name": "Python 3 (ipykernel)",
   "language": "python",
   "name": "python3"
  },
  "language_info": {
   "codemirror_mode": {
    "name": "ipython",
    "version": 3
   },
   "file_extension": ".py",
   "mimetype": "text/x-python",
   "name": "python",
   "nbconvert_exporter": "python",
   "pygments_lexer": "ipython3",
   "version": "3.11.5"
  }
 },
 "nbformat": 4,
 "nbformat_minor": 5
}
